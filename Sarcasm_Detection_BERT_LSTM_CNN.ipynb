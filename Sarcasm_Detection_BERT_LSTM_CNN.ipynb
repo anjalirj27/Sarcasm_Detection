{
 "cells": [
  {
   "cell_type": "code",
   "execution_count": null,
   "id": "a742474a",
   "metadata": {},
   "outputs": [],
   "source": [
    "\n",
    "# If using Colab, uncomment the next lines\n",
    "# !pip install transformers tensorflow sklearn pandas matplotlib seaborn\n"
   ]
  },
  {
   "cell_type": "code",
   "execution_count": null,
   "id": "c0db8b8f",
   "metadata": {},
   "outputs": [],
   "source": [
    "\n",
    "import pandas as pd\n",
    "import numpy as np\n",
    "import tensorflow as tf\n",
    "from transformers import BertTokenizer, TFBertModel\n",
    "from sklearn.model_selection import train_test_split\n",
    "from tensorflow.keras.layers import Input, Dense, Dropout, LSTM, Conv1D, GlobalMaxPooling1D, Bidirectional\n",
    "from tensorflow.keras.models import Model\n",
    "import matplotlib.pyplot as plt\n",
    "import seaborn as sns\n"
   ]
  },
  {
   "cell_type": "code",
   "execution_count": null,
   "id": "4596c7b9",
   "metadata": {},
   "outputs": [],
   "source": [
    "\n",
    "# Make sure the file is in the same directory as your .ipynb file\n",
    "df = pd.read_json(\"Sarcasm_Headlines_Dataset.json\", lines=True)\n",
    "df = df.rename(columns={\"headline\": \"comment\", \"is_sarcastic\": \"label\"})\n",
    "df = df[['comment', 'label']]\n",
    "df.head()\n"
   ]
  },
  {
   "cell_type": "code",
   "execution_count": null,
   "id": "106caac2",
   "metadata": {},
   "outputs": [],
   "source": [
    "\n",
    "tokenizer = BertTokenizer.from_pretrained('bert-base-uncased')\n",
    "\n",
    "def encode_sentences(sentences, tokenizer, max_length=64):\n",
    "    input_ids = []\n",
    "    attention_masks = []\n",
    "\n",
    "    for sent in sentences:\n",
    "        encoded = tokenizer.encode_plus(\n",
    "            text=sent,\n",
    "            add_special_tokens=True,\n",
    "            max_length=max_length,\n",
    "            padding='max_length',\n",
    "            truncation=True,\n",
    "            return_attention_mask=True,\n",
    "            return_tensors='tf'\n",
    "        )\n",
    "        input_ids.append(encoded['input_ids'])\n",
    "        attention_masks.append(encoded['attention_mask'])\n",
    "\n",
    "    return tf.concat(input_ids, axis=0), tf.concat(attention_masks, axis=0)\n",
    "\n",
    "input_ids, attention_masks = encode_sentences(df['comment'].values, tokenizer)\n",
    "labels = tf.convert_to_tensor(df['label'].values)\n"
   ]
  },
  {
   "cell_type": "code",
   "execution_count": null,
   "id": "e2b81e9a",
   "metadata": {},
   "outputs": [],
   "source": [
    "\n",
    "X_train_ids, X_test_ids, X_train_masks, X_test_masks, y_train, y_test = train_test_split(\n",
    "    input_ids, attention_masks, labels, test_size=0.2, random_state=42)\n"
   ]
  },
  {
   "cell_type": "code",
   "execution_count": null,
   "id": "9b665c85",
   "metadata": {},
   "outputs": [],
   "source": [
    "\n",
    "bert_model = TFBertModel.from_pretrained('bert-base-uncased')\n",
    "\n",
    "input_ids_layer = Input(shape=(64,), dtype=tf.int32, name=\"input_ids\")\n",
    "attention_mask_layer = Input(shape=(64,), dtype=tf.int32, name=\"attention_mask\")\n",
    "\n",
    "bert_output = bert_model(input_ids_layer, attention_mask=attention_mask_layer)[0]\n",
    "\n",
    "x = Bidirectional(LSTM(64, return_sequences=True))(bert_output)\n",
    "x = Conv1D(64, kernel_size=3, activation='relu')(x)\n",
    "x = GlobalMaxPooling1D()(x)\n",
    "x = Dropout(0.3)(x)\n",
    "x = Dense(64, activation='relu')(x)\n",
    "x = Dropout(0.2)(x)\n",
    "output = Dense(1, activation='sigmoid')(x)\n",
    "\n",
    "model = Model(inputs=[input_ids_layer, attention_mask_layer], outputs=output)\n",
    "model.compile(optimizer='adam', loss='binary_crossentropy', metrics=['accuracy'])\n",
    "model.summary()\n"
   ]
  },
  {
   "cell_type": "code",
   "execution_count": null,
   "id": "c313c801",
   "metadata": {},
   "outputs": [],
   "source": [
    "\n",
    "history = model.fit(\n",
    "    [X_train_ids, X_train_masks],\n",
    "    y_train,\n",
    "    validation_split=0.1,\n",
    "    epochs=3,\n",
    "    batch_size=32\n",
    ")\n"
   ]
  },
  {
   "cell_type": "code",
   "execution_count": null,
   "id": "6028140d",
   "metadata": {},
   "outputs": [],
   "source": [
    "\n",
    "loss, accuracy = model.evaluate([X_test_ids, X_test_masks], y_test)\n",
    "print(f\"Test Accuracy: {accuracy:.4f}\")\n"
   ]
  },
  {
   "cell_type": "code",
   "execution_count": null,
   "id": "df1a17cd",
   "metadata": {},
   "outputs": [],
   "source": [
    "\n",
    "model.save(\"sarcasm_bert_lstm_cnn_model.h5\")\n"
   ]
  },
  {
   "cell_type": "code",
   "execution_count": null,
   "id": "9ede65ad",
   "metadata": {},
   "outputs": [],
   "source": [
    "\n",
    "plt.plot(history.history['accuracy'], label='Train Accuracy')\n",
    "plt.plot(history.history['val_accuracy'], label='Val Accuracy')\n",
    "plt.xlabel('Epoch')\n",
    "plt.ylabel('Accuracy')\n",
    "plt.legend()\n",
    "plt.grid()\n",
    "plt.title(\"Training History\")\n",
    "plt.show()\n"
   ]
  }
 ],
 "metadata": {},
 "nbformat": 4,
 "nbformat_minor": 5
}
